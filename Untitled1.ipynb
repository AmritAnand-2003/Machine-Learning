{
 "cells": [
  {
   "cell_type": "code",
   "execution_count": 25,
   "id": "9edde799-473e-429e-b9ba-5053597ba2dd",
   "metadata": {},
   "outputs": [],
   "source": [
    "from keras.models import Sequential\n",
    "from keras.layers import Dense"
   ]
  },
  {
   "cell_type": "code",
   "execution_count": 26,
   "id": "8a0f5be7-18fa-4d3b-a8ec-51c85a5e80cf",
   "metadata": {},
   "outputs": [],
   "source": [
    "model1 = Sequential()"
   ]
  },
  {
   "cell_type": "code",
   "execution_count": 27,
   "id": "6611a073-63a3-4e32-aa0f-cf35bbc8b272",
   "metadata": {},
   "outputs": [],
   "source": [
    "layer1 = Dense(units=32,activation = 'relu', input_dim = 30)\n",
    "model1.add(layer1)\n",
    "model1.add(Dense(units=16, activation = 'relu'))\n",
    "model1.add(Dense(units=1, activation = 'sigmoid'))"
   ]
  },
  {
   "cell_type": "code",
   "execution_count": 31,
   "id": "4ccdcae2-b25f-4596-a510-c9649bb183ea",
   "metadata": {},
   "outputs": [],
   "source": [
    "model1.compile(optimizer='adam', loss='binary_crossentropy', metrics=['accuracy']) "
   ]
  },
  {
   "cell_type": "code",
   "execution_count": 32,
   "id": "bc2973bb-4f57-4aa8-a1df-2980eeff6878",
   "metadata": {},
   "outputs": [],
   "source": [
    "from sklearn import datasets\n",
    "cancer = datasets.load_breast_cancer()\n",
    "from sklearn.model_selection import train_test_split\n",
    "\n",
    "x_train, x_test, y_train, y_test = train_test_split(cancer.data, cancer.target, test_size = 0.2, random_state = 0)\n",
    "\n",
    "from sklearn.preprocessing import StandardScaler\n",
    "\n",
    "sc = StandardScaler()\n",
    "x_train = sc.fit_transform(x_train)\n",
    "x_test = sc.transform(x_test)"
   ]
  },
  {
   "cell_type": "code",
   "execution_count": 40,
   "id": "1821f681-bc24-4e82-b195-093279a3067c",
   "metadata": {},
   "outputs": [
    {
     "name": "stdout",
     "output_type": "stream",
     "text": [
      "Epoch 1/10\n",
      "12/12 [==============================] - 0s 13ms/step - loss: 1.5370e-04 - accuracy: 1.0000 - val_loss: 0.1801 - val_accuracy: 0.9737\n",
      "Epoch 2/10\n",
      "12/12 [==============================] - 0s 7ms/step - loss: 1.5195e-04 - accuracy: 1.0000 - val_loss: 0.1800 - val_accuracy: 0.9737\n",
      "Epoch 3/10\n",
      "12/12 [==============================] - 0s 8ms/step - loss: 1.4664e-04 - accuracy: 1.0000 - val_loss: 0.1812 - val_accuracy: 0.9737\n",
      "Epoch 4/10\n",
      "12/12 [==============================] - 0s 9ms/step - loss: 1.4982e-04 - accuracy: 1.0000 - val_loss: 0.1813 - val_accuracy: 0.9737\n",
      "Epoch 5/10\n",
      "12/12 [==============================] - 0s 10ms/step - loss: 1.4541e-04 - accuracy: 1.0000 - val_loss: 0.1814 - val_accuracy: 0.9737\n",
      "Epoch 6/10\n",
      "12/12 [==============================] - 0s 10ms/step - loss: 1.4665e-04 - accuracy: 1.0000 - val_loss: 0.1817 - val_accuracy: 0.9737\n",
      "Epoch 7/10\n",
      "12/12 [==============================] - 0s 9ms/step - loss: 1.4515e-04 - accuracy: 1.0000 - val_loss: 0.1820 - val_accuracy: 0.9737\n",
      "Epoch 8/10\n",
      "12/12 [==============================] - 0s 8ms/step - loss: 1.4220e-04 - accuracy: 1.0000 - val_loss: 0.1825 - val_accuracy: 0.9737\n",
      "Epoch 9/10\n",
      "12/12 [==============================] - 0s 8ms/step - loss: 1.4147e-04 - accuracy: 1.0000 - val_loss: 0.1824 - val_accuracy: 0.9737\n",
      "Epoch 10/10\n",
      "12/12 [==============================] - 0s 8ms/step - loss: 1.3880e-04 - accuracy: 1.0000 - val_loss: 0.1813 - val_accuracy: 0.9737\n"
     ]
    },
    {
     "data": {
      "text/plain": [
       "<keras.src.callbacks.History at 0x20a6c4d3250>"
      ]
     },
     "execution_count": 40,
     "metadata": {},
     "output_type": "execute_result"
    }
   ],
   "source": [
    "model1.fit(x_train, y_train, epochs=10, batch_size=40, validation_data=(x_test,y_test))"
   ]
  },
  {
   "cell_type": "code",
   "execution_count": 44,
   "id": "78f52cc8-4343-4a3b-a8f2-1cf42d663d75",
   "metadata": {},
   "outputs": [
    {
     "name": "stdout",
     "output_type": "stream",
     "text": [
      "4/4 [==============================] - 0s 4ms/step\n",
      "4/4 [==============================] - 0s 5ms/step - loss: 0.1813 - accuracy: 0.9737\n"
     ]
    },
    {
     "data": {
      "text/plain": [
       "[0.1813187450170517, 0.9736841917037964]"
      ]
     },
     "execution_count": 44,
     "metadata": {},
     "output_type": "execute_result"
    }
   ],
   "source": [
    "predictions = model1.predict(x_test)\n",
    "# predictions\n",
    "score = model1.evaluate(x_test,y_test)\n",
    "score"
   ]
  }
 ],
 "metadata": {
  "kernelspec": {
   "display_name": "Python 3 (ipykernel)",
   "language": "python",
   "name": "python3"
  },
  "language_info": {
   "codemirror_mode": {
    "name": "ipython",
    "version": 3
   },
   "file_extension": ".py",
   "mimetype": "text/x-python",
   "name": "python",
   "nbconvert_exporter": "python",
   "pygments_lexer": "ipython3",
   "version": "3.11.5"
  }
 },
 "nbformat": 4,
 "nbformat_minor": 5
}
